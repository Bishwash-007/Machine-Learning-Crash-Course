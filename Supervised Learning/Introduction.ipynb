{
 "cells": [
  {
   "cell_type": "markdown",
   "metadata": {},
   "source": [
    "# Supervised Learning\n",
    "\n",
    "Supervised learning is a type of machine learning where the model is trained on labeled data. The goal is to learn a mapping from input features to output labels. It can be categorized into two main types:\n",
    "\n",
    "1. **Classification**: Predicting a discrete label.\n",
    "2. **Regression**: Predicting a continuous value.\n",
    "\n",
    "Key steps in supervised learning include:\n",
    "\n",
    "1. **Data Collection**: Gather labeled data.\n",
    "2. **Data Preprocessing**: Clean and prepare the data.\n",
    "3. **Model Selection**: Choose an appropriate algorithm.\n",
    "4. **Training**: Train the model on the training data.\n",
    "5. **Evaluation**: Assess the model's performance on test data.\n",
    "6. **Prediction**: Use the trained model to make predictions on new data.\n",
    "\n",
    "Common algorithms used in supervised learning include:\n",
    "\n",
    "- Linear Regression\n",
    "- Logistic Regression\n",
    "- Decision Trees\n",
    "- Support Vector Machines (SVM)\n",
    "- Neural Networks\n",
    "\n",
    "Supervised learning is widely used in various applications such as spam detection, image recognition, and medical diagnosis."
   ]
  }
 ],
 "metadata": {
  "kernelspec": {
   "display_name": "base",
   "language": "python",
   "name": "python3"
  },
  "language_info": {
   "codemirror_mode": {
    "name": "ipython",
    "version": 3
   },
   "file_extension": ".py",
   "mimetype": "text/x-python",
   "name": "python",
   "nbconvert_exporter": "python",
   "pygments_lexer": "ipython3",
   "version": "3.12.7"
  }
 },
 "nbformat": 4,
 "nbformat_minor": 2
}
